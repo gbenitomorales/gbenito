{
 "cells": [
  {
   "cell_type": "markdown",
   "metadata": {},
   "source": [
    "### Ejercicio 2:  Cree una celda markdown con el título del cuaderno. (1 pto)"
   ]
  },
  {
   "cell_type": "markdown",
   "metadata": {},
   "source": [
    "## $Título$ $del$ $cuaderno$: $IBM$ $Módulo$ $4$"
   ]
  },
  {
   "cell_type": "markdown",
   "metadata": {},
   "source": [
    "### Ejercicio 3 : Cree una celda markdown para una introducción. (1 pto)"
   ]
  },
  {
   "cell_type": "markdown",
   "metadata": {},
   "source": [
    "### Introducción:"
   ]
  },
  {
   "cell_type": "markdown",
   "metadata": {},
   "source": [
    "### Ejercicio 4: Cree una celda markdown para enumerar los lenguajes de la ciencia de datos. (3 ptos)"
   ]
  },
  {
   "cell_type": "markdown",
   "metadata": {},
   "source": [
    "Lenguajes de Ciencias de Datos:\n",
    "\n",
    "1. Python\n",
    "2. Java\n",
    "3. R"
   ]
  },
  {
   "cell_type": "markdown",
   "metadata": {},
   "source": [
    "### Ejercicio 5: Cree una celda markdown para listar bibliotecas de ciencia de datos. (3 ptos)"
   ]
  },
  {
   "cell_type": "markdown",
   "metadata": {},
   "source": [
    "import Pandas as pd\n",
    "\n",
    "import matplotlib.pyplot as plt"
   ]
  },
  {
   "cell_type": "markdown",
   "metadata": {},
   "source": [
    "### Ejercicio 6: Cree una celda markdown con una tabla de herramientas de Ciencia de Datos. (3 ptos)"
   ]
  },
  {
   "cell_type": "markdown",
   "metadata": {},
   "source": [
    "# Herramientas Comunes en Ciencia de Datos\n",
    "\n",
    "| Herramienta     | Descripción                                                                                     | Uso Principal                             |\n",
    "|-----------------|-------------------------------------------------------------------------------------------------|-------------------------------------------|\n",
    "| Python          | Lenguaje de programación versátil y ampliamente utilizado en ciencia de datos.                  | Análisis de datos, aprendizaje automático |\n",
    "| R               | Lenguaje de programación especializado en estadística y visualización.                          | Análisis estadístico, visualización       |\n",
    "| Pandas          | Biblioteca de Python para manipulación y análisis de datos.                                     | Manipulación de datos                     |\n",
    "| NumPy           | Biblioteca de Python para computación numérica y trabajo con arreglos multidimensionales.       | Computación científica                    |\n",
    "| Matplotlib      | Biblioteca de Python para crear visualizaciones básicas.                                        | Visualización de datos                    |\n",
    "| Seaborn         | Biblioteca de Python basada en Matplotlib para visualizaciones estadísticas mejoradas.          | Visualización avanzada                    |\n",
    "| Scikit-learn    | Biblioteca de Python para aprendizaje automático y minería de datos.                            | Modelado predictivo                       |\n",
    "| TensorFlow      | Framework de código abierto para aprendizaje automático desarrollado por Google.                | Aprendizaje profundo                      |\n",
    "| Keras           | Biblioteca de alto nivel en Python para redes neuronales, sobre TensorFlow y Theano.            | Aprendizaje profundo                      |\n",
    "| Jupyter Notebook| Entorno interactivo para el desarrollo de proyectos de ciencia de datos en Python.              | Análisis exploratorio, documentación      |\n",
    "| Apache Spark    | Framework de computación en clúster para procesamiento de grandes volúmenes de datos.           | Big Data, procesamiento en paralelo       |\n",
    "| Tableau         | Software de visualización de datos para análisis de negocios.                                   | Visualización interactiva                 |\n",
    "| Power BI        | Herramienta de Microsoft para visualización de datos y análisis de negocios.                    | Análisis y visualización                  |\n",
    "| Hadoop          | Plataforma de código abierto para almacenamiento y procesamiento de grandes volúmenes de datos. | Big Data                                  |\n",
    "| SQL             | Lenguaje de consulta estructurado para manipulación de bases de datos relacionales.             | Consulta y administración de datos        |"
   ]
  },
  {
   "cell_type": "markdown",
   "metadata": {},
   "source": [
    "### Ejercicio 7: Cree una celda markdown introduciendo ejemplos de expresiones aritméticas. (1 pto)"
   ]
  },
  {
   "cell_type": "markdown",
   "metadata": {},
   "source": [
    "2 + 2 "
   ]
  },
  {
   "cell_type": "markdown",
   "metadata": {},
   "source": [
    "### Ejercicio 8: Cree una celda de código para multiplicar y sumar números. (2 ptos)"
   ]
  },
  {
   "cell_type": "code",
   "execution_count": 1,
   "metadata": {},
   "outputs": [
    {
     "data": {
      "text/plain": [
       "12"
      ]
     },
     "execution_count": 1,
     "metadata": {},
     "output_type": "execute_result"
    }
   ],
   "source": [
    "a = 2\n",
    "b = 5\n",
    "a+b +b "
   ]
  },
  {
   "cell_type": "markdown",
   "metadata": {},
   "source": [
    "### Ejercicio 9:  Cree una celda de código para convertir minutos en horas. (2 ptos)"
   ]
  },
  {
   "cell_type": "code",
   "execution_count": 7,
   "metadata": {},
   "outputs": [
    {
     "name": "stdout",
     "output_type": "stream",
     "text": [
      "Minutos:  40\n",
      "Horas:  16.0\n",
      "16.0Horas:40min.\n"
     ]
    }
   ],
   "source": [
    "def timeConv (num):\n",
    "    Minutos = num % 60\n",
    "    print (\"Minutos: \", Minutos)\n",
    "    Horas = (num - Minutos)/60\n",
    "    print (\"Horas: \", Horas)\n",
    "    resultado = str(Horas) + \"Horas\" + \":\" + str(Minutos) + \"min.\"\n",
    "    return resultado\n",
    "\n",
    "print(timeConv (1000))"
   ]
  },
  {
   "cell_type": "markdown",
   "metadata": {},
   "source": [
    "### Ejercicio 10: Inserte una celda de código para listar Objetivos. (3 pts)"
   ]
  },
  {
   "cell_type": "code",
   "execution_count": 8,
   "metadata": {},
   "outputs": [
    {
     "data": {
      "text/plain": [
       "[1, 2, 3, 4]"
      ]
     },
     "execution_count": 8,
     "metadata": {},
     "output_type": "execute_result"
    }
   ],
   "source": [
    "A = [1,2,3,4]\n",
    "A"
   ]
  },
  {
   "cell_type": "markdown",
   "metadata": {},
   "source": [
    "### Ejercicio 11: Cree una celda markdown para indicar el nombre del Autor. (2 ptos)"
   ]
  },
  {
   "cell_type": "markdown",
   "metadata": {},
   "source": [
    "$Nombre$ : Gabriela Benito"
   ]
  },
  {
   "cell_type": "markdown",
   "metadata": {},
   "source": [
    "### Ejercicio 12:  Comparta su cuaderno a través de GitHub (3 pts)"
   ]
  },
  {
   "cell_type": "code",
   "execution_count": null,
   "metadata": {},
   "outputs": [],
   "source": []
  },
  {
   "cell_type": "markdown",
   "metadata": {},
   "source": [
    "### Ejercicio 13: Haga una captura de pantalla de la primera página del cuaderno. (1 pto)"
   ]
  },
  {
   "cell_type": "code",
   "execution_count": null,
   "metadata": {},
   "outputs": [],
   "source": []
  }
 ],
 "metadata": {
  "kernelspec": {
   "display_name": "Python 3 (ipykernel)",
   "language": "python",
   "name": "python3"
  },
  "language_info": {
   "codemirror_mode": {
    "name": "ipython",
    "version": 3
   },
   "file_extension": ".py",
   "mimetype": "text/x-python",
   "name": "python",
   "nbconvert_exporter": "python",
   "pygments_lexer": "ipython3",
   "version": "3.11.4"
  }
 },
 "nbformat": 4,
 "nbformat_minor": 2
}
